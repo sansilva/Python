{
  "nbformat": 4,
  "nbformat_minor": 0,
  "metadata": {
    "colab": {
      "name": "Python_3_parte_01.ipynb",
      "provenance": [],
      "authorship_tag": "ABX9TyN7MxRfKh68uNns3akTC1hQ",
      "include_colab_link": true
    },
    "kernelspec": {
      "name": "python3",
      "display_name": "Python 3"
    }
  },
  "cells": [
    {
      "cell_type": "markdown",
      "metadata": {
        "id": "view-in-github",
        "colab_type": "text"
      },
      "source": [
        "<a href=\"https://colab.research.google.com/github/sansilva/Python/blob/main/Python_3_parte_01.ipynb\" target=\"_parent\"><img src=\"https://colab.research.google.com/assets/colab-badge.svg\" alt=\"Open In Colab\"/></a>"
      ]
    },
    {
      "cell_type": "markdown",
      "metadata": {
        "id": "w8-p66YSWnWq"
      },
      "source": [
        "# **Printando uma string como resultado.**"
      ]
    },
    {
      "cell_type": "code",
      "metadata": {
        "colab": {
          "base_uri": "https://localhost:8080/"
        },
        "id": "LWkcaeAnUu3R",
        "outputId": "4d715733-eb5a-4396-82b1-c9f80ac91738"
      },
      "source": [
        "print(\"Brasil ganhou 05 títulos mundiais\")"
      ],
      "execution_count": 2,
      "outputs": [
        {
          "output_type": "stream",
          "text": [
            "Brasil ganhou 05 títulos mundiais\n"
          ],
          "name": "stdout"
        }
      ]
    },
    {
      "cell_type": "markdown",
      "metadata": {
        "id": "NjwpJTdHW8yn"
      },
      "source": [
        "# **O sep subistitui as virgulas por espaços**"
      ]
    },
    {
      "cell_type": "code",
      "metadata": {
        "colab": {
          "base_uri": "https://localhost:8080/"
        },
        "id": "VUVRHAs6VHbv",
        "outputId": "ff1432e4-288c-4932-9669-1204d9a0fa91"
      },
      "source": [
        "print(\"Brasil\", \"ganhou\", \"05\", \"títulos mundiais\", sep=\" \")"
      ],
      "execution_count": 3,
      "outputs": [
        {
          "output_type": "stream",
          "text": [
            "Brasil ganhou 05 títulos mundiais\n"
          ],
          "name": "stdout"
        }
      ]
    },
    {
      "cell_type": "code",
      "metadata": {
        "id": "R5YTl_pNVdkP"
      },
      "source": [
        "pais = \"Italia\""
      ],
      "execution_count": 4,
      "outputs": []
    },
    {
      "cell_type": "code",
      "metadata": {
        "colab": {
          "base_uri": "https://localhost:8080/"
        },
        "id": "Dcdv3RoQVy_m",
        "outputId": "73eb2b88-4edd-4289-a0a1-d0a67b19970c"
      },
      "source": [
        "type(pais)"
      ],
      "execution_count": 5,
      "outputs": [
        {
          "output_type": "execute_result",
          "data": {
            "text/plain": [
              "str"
            ]
          },
          "metadata": {
            "tags": []
          },
          "execution_count": 5
        }
      ]
    },
    {
      "cell_type": "code",
      "metadata": {
        "id": "6zsz72-CV08Z"
      },
      "source": [
        "quantidade = 4"
      ],
      "execution_count": 6,
      "outputs": []
    },
    {
      "cell_type": "code",
      "metadata": {
        "colab": {
          "base_uri": "https://localhost:8080/"
        },
        "id": "59YJDjTiWEtg",
        "outputId": "c4f9b41d-48ff-4174-b3f9-c6dd644d9c04"
      },
      "source": [
        "type(quantidade)"
      ],
      "execution_count": 7,
      "outputs": [
        {
          "output_type": "execute_result",
          "data": {
            "text/plain": [
              "int"
            ]
          },
          "metadata": {
            "tags": []
          },
          "execution_count": 7
        }
      ]
    },
    {
      "cell_type": "code",
      "metadata": {
        "colab": {
          "base_uri": "https://localhost:8080/"
        },
        "id": "kPLmdzWiWG89",
        "outputId": "c96cb0d3-2db5-4e1f-f120-2b085d76079f"
      },
      "source": [
        "print(pais, \"ganhou\", quantidade, \"títulos mundiais\")"
      ],
      "execution_count": 8,
      "outputs": [
        {
          "output_type": "stream",
          "text": [
            "Italia ganhou 4 títulos mundiais\n"
          ],
          "name": "stdout"
        }
      ]
    },
    {
      "cell_type": "code",
      "metadata": {
        "id": "MoEF74SFWQCC"
      },
      "source": [
        ""
      ],
      "execution_count": 8,
      "outputs": []
    },
    {
      "cell_type": "markdown",
      "metadata": {
        "id": "49Fk-q8Pa-OD"
      },
      "source": [
        "# **Tipagem do Python**"
      ]
    },
    {
      "cell_type": "code",
      "metadata": {
        "id": "QRtjlHzYbA15"
      },
      "source": [
        "base01 = 2\r\n",
        "base02 = 6.8\r\n",
        "base03 = \"Teste\"\r\n",
        "base04 = True"
      ],
      "execution_count": 9,
      "outputs": []
    },
    {
      "cell_type": "code",
      "metadata": {
        "colab": {
          "base_uri": "https://localhost:8080/"
        },
        "id": "8QvAqVL7bxTh",
        "outputId": "835f440b-98d3-439f-8600-27f212e3eb8c"
      },
      "source": [
        "type(base01)"
      ],
      "execution_count": 10,
      "outputs": [
        {
          "output_type": "execute_result",
          "data": {
            "text/plain": [
              "int"
            ]
          },
          "metadata": {
            "tags": []
          },
          "execution_count": 10
        }
      ]
    },
    {
      "cell_type": "code",
      "metadata": {
        "colab": {
          "base_uri": "https://localhost:8080/"
        },
        "id": "Q64tJzF0b0q3",
        "outputId": "08cde7be-30aa-49e8-e338-253a38a7bb8a"
      },
      "source": [
        "type(base02)"
      ],
      "execution_count": 11,
      "outputs": [
        {
          "output_type": "execute_result",
          "data": {
            "text/plain": [
              "float"
            ]
          },
          "metadata": {
            "tags": []
          },
          "execution_count": 11
        }
      ]
    },
    {
      "cell_type": "code",
      "metadata": {
        "colab": {
          "base_uri": "https://localhost:8080/"
        },
        "id": "nMQxWuVMb2kl",
        "outputId": "7db3ece8-9345-4796-acad-339b7fa1d43a"
      },
      "source": [
        "type(base03)"
      ],
      "execution_count": 12,
      "outputs": [
        {
          "output_type": "execute_result",
          "data": {
            "text/plain": [
              "str"
            ]
          },
          "metadata": {
            "tags": []
          },
          "execution_count": 12
        }
      ]
    },
    {
      "cell_type": "code",
      "metadata": {
        "colab": {
          "base_uri": "https://localhost:8080/"
        },
        "id": "kl8-pnTgb907",
        "outputId": "5e6f0d19-645c-4144-a1ac-a74a2dae5d18"
      },
      "source": [
        "type(base04)"
      ],
      "execution_count": 13,
      "outputs": [
        {
          "output_type": "execute_result",
          "data": {
            "text/plain": [
              "bool"
            ]
          },
          "metadata": {
            "tags": []
          },
          "execution_count": 13
        }
      ]
    },
    {
      "cell_type": "code",
      "metadata": {
        "id": "J9XynDIkb_T2"
      },
      "source": [
        ""
      ],
      "execution_count": 13,
      "outputs": []
    },
    {
      "cell_type": "markdown",
      "metadata": {
        "id": "pkk5bMKVcVEb"
      },
      "source": [
        "# **Capturando entrada de dados do usuário**\r\n",
        "\r\n",
        "---\r\n",
        "\r\n"
      ]
    },
    {
      "cell_type": "code",
      "metadata": {
        "colab": {
          "base_uri": "https://localhost:8080/"
        },
        "id": "cEltxWWVcZH2",
        "outputId": "c9879d57-4f98-4b6f-9396-dd585136ac3c"
      },
      "source": [
        "print(\"Bem vindo ao jogo de advinhação\")\r\n",
        "numero_secreto = 42\r\n",
        "chute = input(\"Digite seu número: \")\r\n",
        "\r\n",
        "if(numero_secreto == int(chute)):\r\n",
        "  print(\"Você acertou!\")\r\n",
        "else:\r\n",
        "  print(\"Não foi dessa vez...\")"
      ],
      "execution_count": 14,
      "outputs": [
        {
          "output_type": "stream",
          "text": [
            "Bem vindo ao jogo de advinhação\n",
            "Digite seu número: 12\n",
            "Não foi dessa vez...\n"
          ],
          "name": "stdout"
        }
      ]
    },
    {
      "cell_type": "markdown",
      "metadata": {
        "id": "IR8lxoP2dLi2"
      },
      "source": [
        "# **Testando Valores**"
      ]
    },
    {
      "cell_type": "code",
      "metadata": {
        "colab": {
          "base_uri": "https://localhost:8080/"
        },
        "id": "5weqPPV8fDwy",
        "outputId": "c5f66c2c-a887-4389-9b9d-6637d2c8553a"
      },
      "source": [
        "print(\"Bem vindo ao jogo de advinhação\")\r\n",
        "numero_secreto = 42\r\n",
        "chute = input(\"Digite seu número: \")\r\n",
        "\r\n",
        "acertou = numero_secreto == int(chute)\r\n",
        "maior = int(chute) > numero_secreto\r\n",
        "menor = int(chute) < numero_secreto\r\n",
        "\r\n",
        "if(acertou):\r\n",
        "  print(\"Você acertou!\")\r\n",
        "else:\r\n",
        "  if (maior):\r\n",
        "    print(\"Você errou! O seu chute foi maior do que o número secreto.\")\r\n",
        "\r\n",
        "  if (menor):\r\n",
        "    print(\"Você errou! O seu chute foi menor do que o número secreto.\")\r\n",
        "\r\n",
        "print(\"Fim do jogo!\")\r\n",
        "  \r\n"
      ],
      "execution_count": 23,
      "outputs": [
        {
          "output_type": "stream",
          "text": [
            "Bem vindo ao jogo de advinhação\n",
            "Digite seu número: 99\n",
            "Você errou! O seu chute foi maior do que o número secreto.\n",
            "Fim do jogo!\n"
          ],
          "name": "stdout"
        }
      ]
    },
    {
      "cell_type": "markdown",
      "metadata": {
        "id": "fvfaHQm9kzxR"
      },
      "source": [
        "# **A sequência do jogo**"
      ]
    },
    {
      "cell_type": "code",
      "metadata": {
        "colab": {
          "base_uri": "https://localhost:8080/"
        },
        "id": "HSSGsYP6k3n3",
        "outputId": "1685d13e-2375-439f-f3b2-f4e2b0017b55"
      },
      "source": [
        "print(\"Bem vindo ao jogo de advinhação\")\r\n",
        "#declaração de variáveis\r\n",
        "numero_secreto = 42\r\n",
        "total_de_tentativas = 3\r\n",
        "rodada = 1\r\n",
        "\r\n",
        "# condição para a continuidade do jogo\r\n",
        "while(rodada <= total_de_tentativas):\r\n",
        "  # um contador das tentativas\r\n",
        "  print(\"Tentativa: \", rodada, \"de\" ,total_de_tentativas)\r\n",
        "\r\n",
        "  # captura dos dados do terminal\r\n",
        "  chute = input(\"Digite seu número: \")\r\n",
        "\r\n",
        "  # declarando variáveis com outras variáveis\r\n",
        "  acertou = numero_secreto == int(chute)\r\n",
        "  maior = int(chute) > numero_secreto\r\n",
        "  menor = int(chute) < numero_secreto\r\n",
        "\r\n",
        "  # condição\r\n",
        "  if(acertou):\r\n",
        "    print(\"Você acertou!\")\r\n",
        "  else:\r\n",
        "    if (maior):\r\n",
        "      print(\"Você errou! O seu chute foi maior do que o número secreto.\")\r\n",
        "\r\n",
        "    if (menor):\r\n",
        "      print(\"Você errou! O seu chute foi menor do que o número secreto.\")\r\n",
        "\r\n",
        "    # incremento da rodada, a cada tentaiva soma mais 1\r\n",
        "    rodada = rodada + 1;"
      ],
      "execution_count": 33,
      "outputs": [
        {
          "output_type": "stream",
          "text": [
            "Bem vindo ao jogo de advinhação\n",
            "Tentativa:  1 de 3\n",
            "Digite seu número: 46\n",
            "Você errou! O seu chute foi maior do que o número secreto.\n",
            "Tentativa:  2 de 3\n",
            "Digite seu número: 65\n",
            "Você errou! O seu chute foi maior do que o número secreto.\n",
            "Tentativa:  3 de 3\n",
            "Digite seu número: 49\n",
            "Você errou! O seu chute foi maior do que o número secreto.\n"
          ],
          "name": "stdout"
        }
      ]
    }
  ]
}