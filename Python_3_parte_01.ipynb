{
  "nbformat": 4,
  "nbformat_minor": 0,
  "metadata": {
    "colab": {
      "name": "Python_3_parte_01.ipynb",
      "provenance": [],
      "authorship_tag": "ABX9TyP63RBRxfwrPIWZ10GzgwC7",
      "include_colab_link": true
    },
    "kernelspec": {
      "name": "python3",
      "display_name": "Python 3"
    }
  },
  "cells": [
    {
      "cell_type": "markdown",
      "metadata": {
        "id": "view-in-github",
        "colab_type": "text"
      },
      "source": [
        "<a href=\"https://colab.research.google.com/github/sansilva/Python/blob/main/Python_3_parte_01.ipynb\" target=\"_parent\"><img src=\"https://colab.research.google.com/assets/colab-badge.svg\" alt=\"Open In Colab\"/></a>"
      ]
    },
    {
      "cell_type": "markdown",
      "metadata": {
        "id": "w8-p66YSWnWq"
      },
      "source": [
        "# **Printando uma string como resultado.**"
      ]
    },
    {
      "cell_type": "code",
      "metadata": {
        "colab": {
          "base_uri": "https://localhost:8080/"
        },
        "id": "LWkcaeAnUu3R",
        "outputId": "8561b077-fb1f-44bc-b645-c1a1e92cc3a1"
      },
      "source": [
        "print(\"Brasil ganhou 05 títulos mundiais\")"
      ],
      "execution_count": 32,
      "outputs": [
        {
          "output_type": "stream",
          "text": [
            "Brasil ganhou 05 títulos mundiais\n"
          ],
          "name": "stdout"
        }
      ]
    },
    {
      "cell_type": "markdown",
      "metadata": {
        "id": "NjwpJTdHW8yn"
      },
      "source": [
        "# **O sep subistitui as virgulas por espaços**"
      ]
    },
    {
      "cell_type": "code",
      "metadata": {
        "colab": {
          "base_uri": "https://localhost:8080/"
        },
        "id": "VUVRHAs6VHbv",
        "outputId": "a37392d1-5264-4792-b915-c5217c124d25"
      },
      "source": [
        "print(\"Brasil\", \"ganhou\", \"05\", \"títulos mundiais\", sep=\" \")"
      ],
      "execution_count": 33,
      "outputs": [
        {
          "output_type": "stream",
          "text": [
            "Brasil ganhou 05 títulos mundiais\n"
          ],
          "name": "stdout"
        }
      ]
    },
    {
      "cell_type": "code",
      "metadata": {
        "id": "R5YTl_pNVdkP"
      },
      "source": [
        "pais = \"Italia\""
      ],
      "execution_count": 34,
      "outputs": []
    },
    {
      "cell_type": "code",
      "metadata": {
        "colab": {
          "base_uri": "https://localhost:8080/"
        },
        "id": "Dcdv3RoQVy_m",
        "outputId": "a9b21a79-8f64-4a86-91dd-329082419cc7"
      },
      "source": [
        "type(pais)"
      ],
      "execution_count": 35,
      "outputs": [
        {
          "output_type": "execute_result",
          "data": {
            "text/plain": [
              "str"
            ]
          },
          "metadata": {
            "tags": []
          },
          "execution_count": 35
        }
      ]
    },
    {
      "cell_type": "code",
      "metadata": {
        "id": "6zsz72-CV08Z"
      },
      "source": [
        "quantidade = 4"
      ],
      "execution_count": 36,
      "outputs": []
    },
    {
      "cell_type": "code",
      "metadata": {
        "colab": {
          "base_uri": "https://localhost:8080/"
        },
        "id": "59YJDjTiWEtg",
        "outputId": "e1b2f3d1-3939-46ce-808f-2ef3629202e2"
      },
      "source": [
        "type(quantidade)"
      ],
      "execution_count": 37,
      "outputs": [
        {
          "output_type": "execute_result",
          "data": {
            "text/plain": [
              "int"
            ]
          },
          "metadata": {
            "tags": []
          },
          "execution_count": 37
        }
      ]
    },
    {
      "cell_type": "code",
      "metadata": {
        "colab": {
          "base_uri": "https://localhost:8080/"
        },
        "id": "kPLmdzWiWG89",
        "outputId": "053fe8ed-b1c7-4003-c696-511aa8044f4c"
      },
      "source": [
        "print(pais, \"ganhou\", quantidade, \"títulos mundiais\")"
      ],
      "execution_count": 38,
      "outputs": [
        {
          "output_type": "stream",
          "text": [
            "Italia ganhou 4 títulos mundiais\n"
          ],
          "name": "stdout"
        }
      ]
    },
    {
      "cell_type": "code",
      "metadata": {
        "id": "MoEF74SFWQCC"
      },
      "source": [
        ""
      ],
      "execution_count": 38,
      "outputs": []
    },
    {
      "cell_type": "markdown",
      "metadata": {
        "id": "49Fk-q8Pa-OD"
      },
      "source": [
        "# **Tipagem do Python**"
      ]
    },
    {
      "cell_type": "code",
      "metadata": {
        "id": "QRtjlHzYbA15"
      },
      "source": [
        "base01 = 2\r\n",
        "base02 = 6.8\r\n",
        "base03 = \"Teste\"\r\n",
        "base04 = True"
      ],
      "execution_count": 39,
      "outputs": []
    },
    {
      "cell_type": "code",
      "metadata": {
        "colab": {
          "base_uri": "https://localhost:8080/"
        },
        "id": "8QvAqVL7bxTh",
        "outputId": "f85a61ec-7c56-4f7b-b692-767b64f0fc22"
      },
      "source": [
        "type(base01)"
      ],
      "execution_count": 40,
      "outputs": [
        {
          "output_type": "execute_result",
          "data": {
            "text/plain": [
              "int"
            ]
          },
          "metadata": {
            "tags": []
          },
          "execution_count": 40
        }
      ]
    },
    {
      "cell_type": "code",
      "metadata": {
        "colab": {
          "base_uri": "https://localhost:8080/"
        },
        "id": "Q64tJzF0b0q3",
        "outputId": "81fb3d0f-eeac-4778-a735-e35b9bcedb63"
      },
      "source": [
        "type(base02)"
      ],
      "execution_count": 41,
      "outputs": [
        {
          "output_type": "execute_result",
          "data": {
            "text/plain": [
              "float"
            ]
          },
          "metadata": {
            "tags": []
          },
          "execution_count": 41
        }
      ]
    },
    {
      "cell_type": "code",
      "metadata": {
        "colab": {
          "base_uri": "https://localhost:8080/"
        },
        "id": "nMQxWuVMb2kl",
        "outputId": "10831d5a-e965-4681-e787-911d6013fe3c"
      },
      "source": [
        "type(base03)"
      ],
      "execution_count": 42,
      "outputs": [
        {
          "output_type": "execute_result",
          "data": {
            "text/plain": [
              "str"
            ]
          },
          "metadata": {
            "tags": []
          },
          "execution_count": 42
        }
      ]
    },
    {
      "cell_type": "code",
      "metadata": {
        "colab": {
          "base_uri": "https://localhost:8080/"
        },
        "id": "kl8-pnTgb907",
        "outputId": "0bdadccf-2b47-47bc-9ac2-c270846fb795"
      },
      "source": [
        "type(base04)"
      ],
      "execution_count": 43,
      "outputs": [
        {
          "output_type": "execute_result",
          "data": {
            "text/plain": [
              "bool"
            ]
          },
          "metadata": {
            "tags": []
          },
          "execution_count": 43
        }
      ]
    },
    {
      "cell_type": "code",
      "metadata": {
        "id": "J9XynDIkb_T2"
      },
      "source": [
        ""
      ],
      "execution_count": 43,
      "outputs": []
    },
    {
      "cell_type": "markdown",
      "metadata": {
        "id": "pkk5bMKVcVEb"
      },
      "source": [
        "# **Capturando entrada de dados do usuário**\r\n",
        "\r\n",
        "---\r\n",
        "\r\n"
      ]
    },
    {
      "cell_type": "code",
      "metadata": {
        "colab": {
          "base_uri": "https://localhost:8080/"
        },
        "id": "cEltxWWVcZH2",
        "outputId": "e280dd40-8337-4294-afcf-773e3f17643b"
      },
      "source": [
        "print(\"Bem vindo ao jogo de advinhação\")\r\n",
        "numero_secreto = 42\r\n",
        "chute = input(\"Digite seu número: \")\r\n",
        "\r\n",
        "if(numero_secreto == int(chute)):\r\n",
        "  print(\"Você acertou!\")\r\n",
        "else:\r\n",
        "  print(\"Não foi dessa vez...\")"
      ],
      "execution_count": 44,
      "outputs": [
        {
          "output_type": "stream",
          "text": [
            "Bem vindo ao jogo de advinhação\n",
            "Digite seu número: 2\n",
            "Não foi dessa vez...\n"
          ],
          "name": "stdout"
        }
      ]
    },
    {
      "cell_type": "markdown",
      "metadata": {
        "id": "IR8lxoP2dLi2"
      },
      "source": [
        "# **Testando Valores**"
      ]
    },
    {
      "cell_type": "code",
      "metadata": {
        "colab": {
          "base_uri": "https://localhost:8080/"
        },
        "id": "5weqPPV8fDwy",
        "outputId": "c1398c6a-9852-47dc-976b-c2e8aebadba5"
      },
      "source": [
        "print(\"Bem vindo ao jogo de advinhação\")\r\n",
        "numero_secreto = 42\r\n",
        "chute = input(\"Digite seu número: \")\r\n",
        "\r\n",
        "acertou = numero_secreto == int(chute)\r\n",
        "maior = int(chute) > numero_secreto\r\n",
        "menor = int(chute) < numero_secreto\r\n",
        "\r\n",
        "if(acertou):\r\n",
        "  print(\"Você acertou!\")\r\n",
        "else:\r\n",
        "  if (maior):\r\n",
        "    print(\"Você errou! O seu chute foi maior do que o número secreto.\")\r\n",
        "\r\n",
        "  if (menor):\r\n",
        "    print(\"Você errou! O seu chute foi menor do que o número secreto.\")\r\n",
        "\r\n",
        "print(\"Fim do jogo!\")\r\n",
        "  \r\n"
      ],
      "execution_count": 45,
      "outputs": [
        {
          "output_type": "stream",
          "text": [
            "Bem vindo ao jogo de advinhação\n",
            "Digite seu número: 3\n",
            "Você errou! O seu chute foi menor do que o número secreto.\n",
            "Fim do jogo!\n"
          ],
          "name": "stdout"
        }
      ]
    },
    {
      "cell_type": "markdown",
      "metadata": {
        "id": "fvfaHQm9kzxR"
      },
      "source": [
        "# **A sequência do jogo**"
      ]
    },
    {
      "cell_type": "code",
      "metadata": {
        "colab": {
          "base_uri": "https://localhost:8080/"
        },
        "id": "HSSGsYP6k3n3",
        "outputId": "58be72af-5fe4-4da9-e864-0d9f9fe8a2c2"
      },
      "source": [
        "print(\"Bem vindo ao jogo de advinhação\")\r\n",
        "#declaração de variáveis\r\n",
        "numero_secreto = 42\r\n",
        "total_de_tentativas = 3\r\n",
        "rodada = 1\r\n",
        "\r\n",
        "# condição para a continuidade do jogo\r\n",
        "while(rodada <= total_de_tentativas):\r\n",
        "  # um contador das tentativas\r\n",
        "  print(\"Tentativa {} de {}\".format(rodada, total_de_tentativas))\r\n",
        "\r\n",
        "  # captura dos dados do terminal\r\n",
        "  chute = input(\"Digite seu número: \")\r\n",
        "\r\n",
        "  # declarando variáveis com outras variáveis\r\n",
        "  acertou = numero_secreto == int(chute)\r\n",
        "  maior = int(chute) > numero_secreto\r\n",
        "  menor = int(chute) < numero_secreto\r\n",
        "\r\n",
        "  # condição\r\n",
        "  if(acertou):\r\n",
        "    print(\"Você acertou!\")\r\n",
        "  else:\r\n",
        "    if (maior):\r\n",
        "      print(\"Você errou! O seu chute foi maior do que o número secreto.\")\r\n",
        "\r\n",
        "    if (menor):\r\n",
        "      print(\"Você errou! O seu chute foi menor do que o número secreto.\")\r\n",
        "\r\n",
        "    # incremento da rodada, a cada tentaiva soma mais 1\r\n",
        "    rodada = rodada + 1;"
      ],
      "execution_count": 46,
      "outputs": [
        {
          "output_type": "stream",
          "text": [
            "Bem vindo ao jogo de advinhação\n",
            "Tentativa 1 de 3\n",
            "Digite seu número: 2\n",
            "Você errou! O seu chute foi menor do que o número secreto.\n",
            "Tentativa 2 de 3\n",
            "Digite seu número: 3\n",
            "Você errou! O seu chute foi menor do que o número secreto.\n",
            "Tentativa 3 de 3\n",
            "Digite seu número: 5\n",
            "Você errou! O seu chute foi menor do que o número secreto.\n"
          ],
          "name": "stdout"
        }
      ]
    },
    {
      "cell_type": "markdown",
      "metadata": {
        "id": "SFTIcvYMgToc"
      },
      "source": [
        "# **Iterando de maneira diferente**"
      ]
    },
    {
      "cell_type": "code",
      "metadata": {
        "colab": {
          "base_uri": "https://localhost:8080/"
        },
        "id": "xinppLN-gakA",
        "outputId": "2678e6da-2efc-4d8d-990b-1fc099822d81"
      },
      "source": [
        "print(\"Bem vindo ao jogo de advinhação\")\r\n",
        "#declaração de variáveis\r\n",
        "numero_secreto = 42\r\n",
        "total_de_tentativas = 3\r\n",
        "\r\n",
        "\r\n",
        "# condição para a continuidade do jogo\r\n",
        "for rodada in range (1, total_de_tentativas + 1):\r\n",
        "  # um contador das tentativas\r\n",
        "  print(\"Tentativa {} de {}\".format(rodada, total_de_tentativas))\r\n",
        "\r\n",
        "  # captura dos dados do terminal\r\n",
        "  chute = input(\"Digite seu número: \")\r\n",
        "\r\n",
        "  # declarando variáveis com outras variáveis\r\n",
        "  acertou = numero_secreto == int(chute)\r\n",
        "  maior = int(chute) > numero_secreto\r\n",
        "  menor = int(chute) < numero_secreto\r\n",
        "\r\n",
        "  # condição\r\n",
        "  if(acertou):\r\n",
        "    print(\"Você acertou!\")\r\n",
        "  else:\r\n",
        "    if (maior):\r\n",
        "      print(\"Você errou! O seu chute foi maior do que o número secreto.\")\r\n",
        "\r\n",
        "    if (menor):\r\n",
        "      print(\"Você errou! O seu chute foi menor do que o número secreto.\") \r\n",
        "  "
      ],
      "execution_count": 47,
      "outputs": [
        {
          "output_type": "stream",
          "text": [
            "Bem vindo ao jogo de advinhação\n",
            "Tentativa 1 de 3\n",
            "Digite seu número: 3\n",
            "Você errou! O seu chute foi menor do que o número secreto.\n",
            "Tentativa 2 de 3\n",
            "Digite seu número: 2\n",
            "Você errou! O seu chute foi menor do que o número secreto.\n",
            "Tentativa 3 de 3\n",
            "Digite seu número: 3\n",
            "Você errou! O seu chute foi menor do que o número secreto.\n"
          ],
          "name": "stdout"
        }
      ]
    },
    {
      "cell_type": "code",
      "metadata": {
        "colab": {
          "base_uri": "https://localhost:8080/"
        },
        "id": "XZoFTA3ojrkq",
        "outputId": "e43a3824-5aa6-4a0e-c5ee-7a7a51e06b8c"
      },
      "source": [
        "print(\"Bem vindo ao jogo de advinhação\")\r\n",
        "#declaração de variáveis\r\n",
        "numero_secreto = 42\r\n",
        "total_de_tentativas = 3\r\n",
        "\r\n",
        "\r\n",
        "# condição para a continuidade do jogo\r\n",
        "for rodada in range (1, total_de_tentativas + 1):\r\n",
        "  # um contador das tentativas\r\n",
        "  print(\"Tentativa {} de {}\".format(rodada, total_de_tentativas))\r\n",
        "\r\n",
        "  # captura dos dados do terminal\r\n",
        "  chute = input(\"Digite seu número entre 1 e 100: \")\r\n",
        "\r\n",
        "  if(int(chute) < 1 or int(chute) > 100):\r\n",
        "    print(\"Ateção! Você deve digitar um número entre 1 e 100\")\r\n",
        "    continue\r\n",
        "\r\n",
        "  # declarando variáveis com outras variáveis\r\n",
        "  acertou = numero_secreto == int(chute)\r\n",
        "  maior = int(chute) > numero_secreto\r\n",
        "  menor = int(chute) < numero_secreto\r\n",
        "\r\n",
        "  # condição\r\n",
        "  if(acertou):\r\n",
        "    print(\"Você acertou!\")\r\n",
        "    break #encerra nosso jogo\r\n",
        "  else:\r\n",
        "    if (maior):\r\n",
        "      print(\"Você errou! O seu chute foi maior do que o número secreto.\")\r\n",
        "\r\n",
        "    if (menor):\r\n",
        "      print(\"Você errou! O seu chute foi menor do que o número secreto.\")\r\n",
        "\r\n",
        "print(\"Fim do jogo!\")"
      ],
      "execution_count": 48,
      "outputs": [
        {
          "output_type": "stream",
          "text": [
            "Bem vindo ao jogo de advinhação\n",
            "Tentativa 1 de 3\n",
            "Digite seu número entre 1 e 100: 23\n",
            "Você errou! O seu chute foi menor do que o número secreto.\n",
            "Tentativa 2 de 3\n",
            "Digite seu número entre 1 e 100: 3\n",
            "Você errou! O seu chute foi menor do que o número secreto.\n",
            "Tentativa 3 de 3\n",
            "Digite seu número entre 1 e 100: 3\n",
            "Você errou! O seu chute foi menor do que o número secreto.\n",
            "Fim do jogo!\n"
          ],
          "name": "stdout"
        }
      ]
    },
    {
      "cell_type": "markdown",
      "metadata": {
        "id": "fkBJTuJaov-4"
      },
      "source": [
        "**Dica!**\r\n",
        "**Na linha abaixo obserervamos dos pares de chaves. Eles recebem os parâtros no .format.**\r\n",
        "\r\n",
        "*print(\"Tentativa {} de {}\".format(rodada, total_de_tentativas))*\r\n",
        "\r\n",
        "**Por padrão a sequência é da esquerda para direita porem, podemos alterar essa ordem destacando dentro das chaves {1} {0}**\r\n",
        "\r\n",
        "*print(\"Tentativa {1} de {0}\".format(rodada, total_de_tentativas))* \r\n",
        "\r\n",
        "**Observação: É válido lembrar também, que o primeiro parâmetro é o zero, pois tradicionalmente na computação começamos contando de zero**"
      ]
    },
    {
      "cell_type": "markdown",
      "metadata": {
        "id": "OJTlc9P4soU-"
      },
      "source": [
        "**O resultado da interpolação**\r\n",
        "\r\n",
        "\"{:6.1f}\".format(1000.12)\r\n",
        "\r\n",
        "\"{:07.2f}\".format(4.11)\r\n",
        "\r\n",
        "Abaixo a saída...\r\n",
        "\r\n",
        "1000.1\r\n",
        "0004.11 "
      ]
    },
    {
      "cell_type": "code",
      "metadata": {
        "id": "7s1rp6wxpToA"
      },
      "source": [
        "import random"
      ],
      "execution_count": 49,
      "outputs": []
    },
    {
      "cell_type": "code",
      "metadata": {
        "colab": {
          "base_uri": "https://localhost:8080/"
        },
        "id": "4g6UOgMzs57v",
        "outputId": "62aea597-1a36-479a-9760-70fad947410b"
      },
      "source": [
        "print(\"Bem vindo ao jogo de advinhação\")\r\n",
        "#declaração de variáveis\r\n",
        "#Definindo um intervalo para a geração de números aleatórios\r\n",
        "numero_secreto =  random.randrange(1, 101)\r\n",
        "total_de_tentativas = 3\r\n",
        "\r\n",
        "print(numero_secreto)\r\n",
        "\r\n",
        "# condição para a continuidade do jogo\r\n",
        "for rodada in range (1, total_de_tentativas + 1):\r\n",
        "  # um contador das tentativas\r\n",
        "  print(\"Tentativa {} de {}\".format(rodada, total_de_tentativas))\r\n",
        "\r\n",
        "  # captura dos dados do terminal\r\n",
        "  chute = input(\"Digite seu número entre 1 e 100: \")\r\n",
        "\r\n",
        "  if(int(chute) < 1 or int(chute) > 100):\r\n",
        "    print(\"Ateção! Você deve digitar um número entre 1 e 100\")\r\n",
        "    continue\r\n",
        "\r\n",
        "  # declarando variáveis com outras variáveis\r\n",
        "  acertou = numero_secreto == int(chute)\r\n",
        "  maior = int(chute) > numero_secreto\r\n",
        "  menor = int(chute) < numero_secreto\r\n",
        "\r\n",
        "  # condição\r\n",
        "  if(acertou):\r\n",
        "    print(\"Você acertou!\")\r\n",
        "    break #encerra nosso jogo\r\n",
        "  else:\r\n",
        "    if (maior):\r\n",
        "      print(\"Você errou! O seu chute foi maior do que o número secreto.\")\r\n",
        "\r\n",
        "    if (menor):\r\n",
        "      print(\"Você errou! O seu chute foi menor do que o número secreto.\")\r\n",
        "\r\n",
        "print(\"Fim do jogo!\")"
      ],
      "execution_count": 50,
      "outputs": [
        {
          "output_type": "stream",
          "text": [
            "Bem vindo ao jogo de advinhação\n",
            "3\n",
            "Tentativa 1 de 3\n",
            "Digite seu número entre 1 e 100: 2\n",
            "Você errou! O seu chute foi menor do que o número secreto.\n",
            "Tentativa 2 de 3\n",
            "Digite seu número entre 1 e 100: 3\n",
            "Você acertou!\n",
            "Fim do jogo!\n"
          ],
          "name": "stdout"
        }
      ]
    },
    {
      "cell_type": "markdown",
      "metadata": {
        "id": "2aNq7RCaKsMu"
      },
      "source": [
        "# **Adicionando níveis ao jogo**"
      ]
    },
    {
      "cell_type": "code",
      "metadata": {
        "colab": {
          "base_uri": "https://localhost:8080/"
        },
        "id": "38-n3FE-Ksjn",
        "outputId": "58b3da0d-5e9d-4dd6-e324-00544af844ff"
      },
      "source": [
        "print(\"Bem vindo ao jogo de advinhação\")\r\n",
        "#declaração de variáveis\r\n",
        "#Definindo um intervalo para a geração de números aleatórios\r\n",
        "numero_secreto =  random.randrange(1, 101)\r\n",
        "total_de_tentativas = 0\r\n",
        "\r\n",
        "print(\"Qual nível de dificuldade?\")\r\n",
        "print(\"(1) Fácil (2) Médio (3) Difícil\")\r\n",
        "\r\n",
        "nivel = int(input(\"Defina um nível: \"))\r\n",
        "\r\n",
        "# foi zerado a variável total_de_tentativas, assim para cada nível teremos uma quantidade de tentativas\r\n",
        "if(nivel == 1):\r\n",
        "  total_de_tentativas = 20\r\n",
        "elif(nivel == 2):\r\n",
        "  total_de_tentativas = 10\r\n",
        "else:\r\n",
        "  total_de_tentativas = 5\r\n",
        "\r\n",
        "\r\n",
        "# condição para a continuidade do jogo\r\n",
        "for rodada in range (1, total_de_tentativas + 1):\r\n",
        "  # um contador das tentativas\r\n",
        "  print(\"Tentativa {} de {}\".format(rodada, total_de_tentativas))\r\n",
        "\r\n",
        "  # captura dos dados do terminal\r\n",
        "  chute = input(\"Digite seu número entre 1 e 100: \")\r\n",
        "\r\n",
        "  if(int(chute) < 1 or int(chute) > 100):\r\n",
        "    print(\"Ateção! Você deve digitar um número entre 1 e 100\")\r\n",
        "    continue\r\n",
        "\r\n",
        "  # declarando variáveis com outras variáveis\r\n",
        "  acertou = numero_secreto == int(chute)\r\n",
        "  maior = int(chute) > numero_secreto\r\n",
        "  menor = int(chute) < numero_secreto\r\n",
        "\r\n",
        "  # condição\r\n",
        "  if(acertou):\r\n",
        "    print(\"Você acertou!\")\r\n",
        "    break #encerra nosso jogo\r\n",
        "  else:\r\n",
        "    if (maior):\r\n",
        "      print(\"Você errou! O seu chute foi maior do que o número secreto.\")\r\n",
        "\r\n",
        "    if (menor):\r\n",
        "      print(\"Você errou! O seu chute foi menor do que o número secreto.\")\r\n",
        "\r\n",
        "print(\"Fim do jogo!\")"
      ],
      "execution_count": 51,
      "outputs": [
        {
          "output_type": "stream",
          "text": [
            "Bem vindo ao jogo de advinhação\n",
            "Qual nível de dificuldade?\n",
            "(1) Fácil (2) Médio (3) Difícil\n",
            "Defina um nível: 3\n",
            "Tentativa 1 de 5\n",
            "Digite seu número entre 1 e 100: 5\n",
            "Você errou! O seu chute foi menor do que o número secreto.\n",
            "Tentativa 2 de 5\n",
            "Digite seu número entre 1 e 100: 40\n",
            "Você errou! O seu chute foi menor do que o número secreto.\n",
            "Tentativa 3 de 5\n",
            "Digite seu número entre 1 e 100: 50\n",
            "Você errou! O seu chute foi menor do que o número secreto.\n",
            "Tentativa 4 de 5\n",
            "Digite seu número entre 1 e 100: 60\n",
            "Você errou! O seu chute foi menor do que o número secreto.\n",
            "Tentativa 5 de 5\n",
            "Digite seu número entre 1 e 100: 89\n",
            "Você errou! O seu chute foi maior do que o número secreto.\n",
            "Fim do jogo!\n"
          ],
          "name": "stdout"
        }
      ]
    }
  ]
}