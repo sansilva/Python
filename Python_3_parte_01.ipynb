{
  "nbformat": 4,
  "nbformat_minor": 0,
  "metadata": {
    "colab": {
      "name": "Python_3_parte_01.ipynb",
      "provenance": [],
      "authorship_tag": "ABX9TyNWEwQgTbUw+FSNxKIDHiHX",
      "include_colab_link": true
    },
    "kernelspec": {
      "name": "python3",
      "display_name": "Python 3"
    }
  },
  "cells": [
    {
      "cell_type": "markdown",
      "metadata": {
        "id": "view-in-github",
        "colab_type": "text"
      },
      "source": [
        "<a href=\"https://colab.research.google.com/github/sansilva/Python/blob/main/Python_3_parte_01.ipynb\" target=\"_parent\"><img src=\"https://colab.research.google.com/assets/colab-badge.svg\" alt=\"Open In Colab\"/></a>"
      ]
    },
    {
      "cell_type": "markdown",
      "metadata": {
        "id": "w8-p66YSWnWq"
      },
      "source": [
        "**Printando uma string como resultado.**"
      ]
    },
    {
      "cell_type": "code",
      "metadata": {
        "colab": {
          "base_uri": "https://localhost:8080/"
        },
        "id": "LWkcaeAnUu3R",
        "outputId": "d4cbd033-a8f5-4a53-a4f8-a0ac6a9f0bca"
      },
      "source": [
        "print(\"Brasil ganhou 05 títulos mundiais\")"
      ],
      "execution_count": 1,
      "outputs": [
        {
          "output_type": "stream",
          "text": [
            "Brasil ganhou 05 títulos mundiais\n"
          ],
          "name": "stdout"
        }
      ]
    },
    {
      "cell_type": "markdown",
      "metadata": {
        "id": "NjwpJTdHW8yn"
      },
      "source": [
        "**O sep subistitui as virgulas por espaços**"
      ]
    },
    {
      "cell_type": "code",
      "metadata": {
        "colab": {
          "base_uri": "https://localhost:8080/"
        },
        "id": "VUVRHAs6VHbv",
        "outputId": "a1e48a0a-3660-44f9-d4f7-fd17ff280dc9"
      },
      "source": [
        "print(\"Brasil\", \"ganhou\", \"05\", \"títulos mundiais\", sep=\" \")"
      ],
      "execution_count": 6,
      "outputs": [
        {
          "output_type": "stream",
          "text": [
            "Brasil ganhou 05 títulos mundiais\n"
          ],
          "name": "stdout"
        }
      ]
    },
    {
      "cell_type": "code",
      "metadata": {
        "id": "R5YTl_pNVdkP"
      },
      "source": [
        "pais = \"Italia\""
      ],
      "execution_count": 7,
      "outputs": []
    },
    {
      "cell_type": "code",
      "metadata": {
        "colab": {
          "base_uri": "https://localhost:8080/"
        },
        "id": "Dcdv3RoQVy_m",
        "outputId": "e58888d3-35e6-41cc-f365-a84f45b24f91"
      },
      "source": [
        "type(pais)"
      ],
      "execution_count": 8,
      "outputs": [
        {
          "output_type": "execute_result",
          "data": {
            "text/plain": [
              "str"
            ]
          },
          "metadata": {
            "tags": []
          },
          "execution_count": 8
        }
      ]
    },
    {
      "cell_type": "code",
      "metadata": {
        "id": "6zsz72-CV08Z"
      },
      "source": [
        "quantidade = 4"
      ],
      "execution_count": 9,
      "outputs": []
    },
    {
      "cell_type": "code",
      "metadata": {
        "colab": {
          "base_uri": "https://localhost:8080/"
        },
        "id": "59YJDjTiWEtg",
        "outputId": "7bf14f0f-b52f-4756-d4c4-e565c6433208"
      },
      "source": [
        "type(quantidade)"
      ],
      "execution_count": 10,
      "outputs": [
        {
          "output_type": "execute_result",
          "data": {
            "text/plain": [
              "int"
            ]
          },
          "metadata": {
            "tags": []
          },
          "execution_count": 10
        }
      ]
    },
    {
      "cell_type": "code",
      "metadata": {
        "colab": {
          "base_uri": "https://localhost:8080/"
        },
        "id": "kPLmdzWiWG89",
        "outputId": "5ee08237-1dd0-4220-c92f-932b32afe2cb"
      },
      "source": [
        "print(pais, \"ganhou\", quantidade, \"títulos mundiais\")"
      ],
      "execution_count": 12,
      "outputs": [
        {
          "output_type": "stream",
          "text": [
            "Italia ganhou 4 títulos mundiais\n"
          ],
          "name": "stdout"
        }
      ]
    },
    {
      "cell_type": "code",
      "metadata": {
        "id": "MoEF74SFWQCC"
      },
      "source": [
        ""
      ],
      "execution_count": null,
      "outputs": []
    }
  ]
}