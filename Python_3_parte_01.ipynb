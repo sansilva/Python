{
  "nbformat": 4,
  "nbformat_minor": 0,
  "metadata": {
    "colab": {
      "name": "Python_3_parte_01.ipynb",
      "provenance": [],
      "authorship_tag": "ABX9TyO1JQYYrKopTPqMiEgK5uG8",
      "include_colab_link": true
    },
    "kernelspec": {
      "name": "python3",
      "display_name": "Python 3"
    }
  },
  "cells": [
    {
      "cell_type": "markdown",
      "metadata": {
        "id": "view-in-github",
        "colab_type": "text"
      },
      "source": [
        "<a href=\"https://colab.research.google.com/github/sansilva/Python/blob/main/Python_3_parte_01.ipynb\" target=\"_parent\"><img src=\"https://colab.research.google.com/assets/colab-badge.svg\" alt=\"Open In Colab\"/></a>"
      ]
    },
    {
      "cell_type": "markdown",
      "metadata": {
        "id": "w8-p66YSWnWq"
      },
      "source": [
        "# **Printando uma string como resultado.**"
      ]
    },
    {
      "cell_type": "code",
      "metadata": {
        "colab": {
          "base_uri": "https://localhost:8080/"
        },
        "id": "LWkcaeAnUu3R",
        "outputId": "b0594297-e86b-497b-a932-144a26514ee4"
      },
      "source": [
        "print(\"Brasil ganhou 05 títulos mundiais\")"
      ],
      "execution_count": 1,
      "outputs": [
        {
          "output_type": "stream",
          "text": [
            "Brasil ganhou 05 títulos mundiais\n"
          ],
          "name": "stdout"
        }
      ]
    },
    {
      "cell_type": "markdown",
      "metadata": {
        "id": "NjwpJTdHW8yn"
      },
      "source": [
        "# **O sep subistitui as virgulas por espaços**"
      ]
    },
    {
      "cell_type": "code",
      "metadata": {
        "colab": {
          "base_uri": "https://localhost:8080/"
        },
        "id": "VUVRHAs6VHbv",
        "outputId": "ae464c06-2675-4113-c7dd-2ebeb14eb5eb"
      },
      "source": [
        "print(\"Brasil\", \"ganhou\", \"05\", \"títulos mundiais\", sep=\" \")"
      ],
      "execution_count": 2,
      "outputs": [
        {
          "output_type": "stream",
          "text": [
            "Brasil ganhou 05 títulos mundiais\n"
          ],
          "name": "stdout"
        }
      ]
    },
    {
      "cell_type": "code",
      "metadata": {
        "id": "R5YTl_pNVdkP"
      },
      "source": [
        "pais = \"Italia\""
      ],
      "execution_count": 3,
      "outputs": []
    },
    {
      "cell_type": "code",
      "metadata": {
        "colab": {
          "base_uri": "https://localhost:8080/"
        },
        "id": "Dcdv3RoQVy_m",
        "outputId": "195ec00d-67a5-4162-e092-2d0f6004d640"
      },
      "source": [
        "type(pais)"
      ],
      "execution_count": 4,
      "outputs": [
        {
          "output_type": "execute_result",
          "data": {
            "text/plain": [
              "str"
            ]
          },
          "metadata": {
            "tags": []
          },
          "execution_count": 4
        }
      ]
    },
    {
      "cell_type": "code",
      "metadata": {
        "id": "6zsz72-CV08Z"
      },
      "source": [
        "quantidade = 4"
      ],
      "execution_count": 5,
      "outputs": []
    },
    {
      "cell_type": "code",
      "metadata": {
        "colab": {
          "base_uri": "https://localhost:8080/"
        },
        "id": "59YJDjTiWEtg",
        "outputId": "14c28c9c-77cb-4b37-c2a0-1504cc0ec836"
      },
      "source": [
        "type(quantidade)"
      ],
      "execution_count": 6,
      "outputs": [
        {
          "output_type": "execute_result",
          "data": {
            "text/plain": [
              "int"
            ]
          },
          "metadata": {
            "tags": []
          },
          "execution_count": 6
        }
      ]
    },
    {
      "cell_type": "code",
      "metadata": {
        "colab": {
          "base_uri": "https://localhost:8080/"
        },
        "id": "kPLmdzWiWG89",
        "outputId": "2e1084db-941f-4cf1-81d0-e252a0db9fbd"
      },
      "source": [
        "print(pais, \"ganhou\", quantidade, \"títulos mundiais\")"
      ],
      "execution_count": 7,
      "outputs": [
        {
          "output_type": "stream",
          "text": [
            "Italia ganhou 4 títulos mundiais\n"
          ],
          "name": "stdout"
        }
      ]
    },
    {
      "cell_type": "code",
      "metadata": {
        "id": "MoEF74SFWQCC"
      },
      "source": [
        ""
      ],
      "execution_count": 7,
      "outputs": []
    },
    {
      "cell_type": "markdown",
      "metadata": {
        "id": "49Fk-q8Pa-OD"
      },
      "source": [
        "# **Tipagem do Python**"
      ]
    },
    {
      "cell_type": "code",
      "metadata": {
        "id": "QRtjlHzYbA15"
      },
      "source": [
        "base01 = 2\r\n",
        "base02 = 6.8\r\n",
        "base03 = \"Teste\"\r\n",
        "base04 = True"
      ],
      "execution_count": 8,
      "outputs": []
    },
    {
      "cell_type": "code",
      "metadata": {
        "colab": {
          "base_uri": "https://localhost:8080/"
        },
        "id": "8QvAqVL7bxTh",
        "outputId": "23cefb74-fa43-40a9-e799-419a67143985"
      },
      "source": [
        "type(base01)"
      ],
      "execution_count": 9,
      "outputs": [
        {
          "output_type": "execute_result",
          "data": {
            "text/plain": [
              "int"
            ]
          },
          "metadata": {
            "tags": []
          },
          "execution_count": 9
        }
      ]
    },
    {
      "cell_type": "code",
      "metadata": {
        "colab": {
          "base_uri": "https://localhost:8080/"
        },
        "id": "Q64tJzF0b0q3",
        "outputId": "cf2cdd97-ff3d-4523-ef0d-bd75eb3ff63f"
      },
      "source": [
        "type(base02)"
      ],
      "execution_count": 10,
      "outputs": [
        {
          "output_type": "execute_result",
          "data": {
            "text/plain": [
              "float"
            ]
          },
          "metadata": {
            "tags": []
          },
          "execution_count": 10
        }
      ]
    },
    {
      "cell_type": "code",
      "metadata": {
        "colab": {
          "base_uri": "https://localhost:8080/"
        },
        "id": "nMQxWuVMb2kl",
        "outputId": "b9c2e05d-2f13-4d31-d4fb-783f5e182c61"
      },
      "source": [
        "type(base03)"
      ],
      "execution_count": 11,
      "outputs": [
        {
          "output_type": "execute_result",
          "data": {
            "text/plain": [
              "str"
            ]
          },
          "metadata": {
            "tags": []
          },
          "execution_count": 11
        }
      ]
    },
    {
      "cell_type": "code",
      "metadata": {
        "colab": {
          "base_uri": "https://localhost:8080/"
        },
        "id": "kl8-pnTgb907",
        "outputId": "bf257de7-b367-41a8-dccf-118b52371c4f"
      },
      "source": [
        "type(base04)"
      ],
      "execution_count": 12,
      "outputs": [
        {
          "output_type": "execute_result",
          "data": {
            "text/plain": [
              "bool"
            ]
          },
          "metadata": {
            "tags": []
          },
          "execution_count": 12
        }
      ]
    },
    {
      "cell_type": "code",
      "metadata": {
        "id": "J9XynDIkb_T2"
      },
      "source": [
        ""
      ],
      "execution_count": 12,
      "outputs": []
    },
    {
      "cell_type": "markdown",
      "metadata": {
        "id": "pkk5bMKVcVEb"
      },
      "source": [
        "# **Capturando entrada de dados do usuário**\r\n",
        "\r\n",
        "---\r\n",
        "\r\n"
      ]
    },
    {
      "cell_type": "code",
      "metadata": {
        "colab": {
          "base_uri": "https://localhost:8080/"
        },
        "id": "cEltxWWVcZH2",
        "outputId": "0cf7ab2e-3d45-4fad-d1be-4a3c54ce2ac8"
      },
      "source": [
        "print(\"Bem vindo ao jogo de advinhação\")\r\n",
        "numero_secreto = 42\r\n",
        "chute = input(\"Digite seu número: \")\r\n",
        "\r\n",
        "if(numero_secreto == int(chute)):\r\n",
        "  print(\"Você acertou!\")\r\n",
        "else:\r\n",
        "  print(\"Não foi dessa vez...\")"
      ],
      "execution_count": 13,
      "outputs": [
        {
          "output_type": "stream",
          "text": [
            "Bem vindo ao jogo de advinhação\n",
            "Digite seu número: 23\n",
            "Não foi dessa vez...\n"
          ],
          "name": "stdout"
        }
      ]
    },
    {
      "cell_type": "markdown",
      "metadata": {
        "id": "IR8lxoP2dLi2"
      },
      "source": [
        "# **Testando Valores**"
      ]
    },
    {
      "cell_type": "code",
      "metadata": {
        "colab": {
          "base_uri": "https://localhost:8080/"
        },
        "id": "5weqPPV8fDwy",
        "outputId": "9b7183cb-cbac-4977-fca9-caf269ac63f1"
      },
      "source": [
        "print(\"Bem vindo ao jogo de advinhação\")\r\n",
        "numero_secreto = 42\r\n",
        "chute = input(\"Digite seu número: \")\r\n",
        "\r\n",
        "acertou = numero_secreto == int(chute)\r\n",
        "maior = int(chute) > numero_secreto\r\n",
        "menor = int(chute) < numero_secreto\r\n",
        "\r\n",
        "if(acertou):\r\n",
        "  print(\"Você acertou!\")\r\n",
        "else:\r\n",
        "  if (maior):\r\n",
        "    print(\"Você errou! O seu chute foi maior do que o número secreto.\")\r\n",
        "\r\n",
        "  if (menor):\r\n",
        "    print(\"Você errou! O seu chute foi menor do que o número secreto.\")\r\n",
        "\r\n",
        "print(\"Fim do jogo!\")\r\n",
        "  \r\n"
      ],
      "execution_count": 14,
      "outputs": [
        {
          "output_type": "stream",
          "text": [
            "Bem vindo ao jogo de advinhação\n",
            "Digite seu número: 23\n",
            "Você errou! O seu chute foi menor do que o número secreto.\n",
            "Fim do jogo!\n"
          ],
          "name": "stdout"
        }
      ]
    },
    {
      "cell_type": "markdown",
      "metadata": {
        "id": "fvfaHQm9kzxR"
      },
      "source": [
        "# **A sequência do jogo**"
      ]
    },
    {
      "cell_type": "code",
      "metadata": {
        "colab": {
          "base_uri": "https://localhost:8080/"
        },
        "id": "HSSGsYP6k3n3",
        "outputId": "7ed5885f-dfda-48f4-cac5-72cbf928c338"
      },
      "source": [
        "print(\"Bem vindo ao jogo de advinhação\")\r\n",
        "#declaração de variáveis\r\n",
        "numero_secreto = 42\r\n",
        "total_de_tentativas = 3\r\n",
        "rodada = 1\r\n",
        "\r\n",
        "# condição para a continuidade do jogo\r\n",
        "while(rodada <= total_de_tentativas):\r\n",
        "  # um contador das tentativas\r\n",
        "  print(\"Tentativa {} de {}\".format(rodada, total_de_tentativas))\r\n",
        "\r\n",
        "  # captura dos dados do terminal\r\n",
        "  chute = input(\"Digite seu número: \")\r\n",
        "\r\n",
        "  # declarando variáveis com outras variáveis\r\n",
        "  acertou = numero_secreto == int(chute)\r\n",
        "  maior = int(chute) > numero_secreto\r\n",
        "  menor = int(chute) < numero_secreto\r\n",
        "\r\n",
        "  # condição\r\n",
        "  if(acertou):\r\n",
        "    print(\"Você acertou!\")\r\n",
        "  else:\r\n",
        "    if (maior):\r\n",
        "      print(\"Você errou! O seu chute foi maior do que o número secreto.\")\r\n",
        "\r\n",
        "    if (menor):\r\n",
        "      print(\"Você errou! O seu chute foi menor do que o número secreto.\")\r\n",
        "\r\n",
        "    # incremento da rodada, a cada tentaiva soma mais 1\r\n",
        "    rodada = rodada + 1;"
      ],
      "execution_count": 15,
      "outputs": [
        {
          "output_type": "stream",
          "text": [
            "Bem vindo ao jogo de advinhação\n",
            "Tentativa 1 de 3\n",
            "Digite seu número: 32\n",
            "Você errou! O seu chute foi menor do que o número secreto.\n",
            "Tentativa 2 de 3\n",
            "Digite seu número: 26\n",
            "Você errou! O seu chute foi menor do que o número secreto.\n",
            "Tentativa 3 de 3\n",
            "Digite seu número: 26\n",
            "Você errou! O seu chute foi menor do que o número secreto.\n"
          ],
          "name": "stdout"
        }
      ]
    },
    {
      "cell_type": "markdown",
      "metadata": {
        "id": "SFTIcvYMgToc"
      },
      "source": [
        "# **Iterando de maneira diferente**"
      ]
    },
    {
      "cell_type": "code",
      "metadata": {
        "colab": {
          "base_uri": "https://localhost:8080/"
        },
        "id": "xinppLN-gakA",
        "outputId": "c7311346-6418-4482-b1bc-14514d519263"
      },
      "source": [
        "print(\"Bem vindo ao jogo de advinhação\")\r\n",
        "#declaração de variáveis\r\n",
        "numero_secreto = 42\r\n",
        "total_de_tentativas = 3\r\n",
        "\r\n",
        "\r\n",
        "# condição para a continuidade do jogo\r\n",
        "for rodada in range (1, total_de_tentativas + 1):\r\n",
        "  # um contador das tentativas\r\n",
        "  print(\"Tentativa {} de {}\".format(rodada, total_de_tentativas))\r\n",
        "\r\n",
        "  # captura dos dados do terminal\r\n",
        "  chute = input(\"Digite seu número: \")\r\n",
        "\r\n",
        "  # declarando variáveis com outras variáveis\r\n",
        "  acertou = numero_secreto == int(chute)\r\n",
        "  maior = int(chute) > numero_secreto\r\n",
        "  menor = int(chute) < numero_secreto\r\n",
        "\r\n",
        "  # condição\r\n",
        "  if(acertou):\r\n",
        "    print(\"Você acertou!\")\r\n",
        "  else:\r\n",
        "    if (maior):\r\n",
        "      print(\"Você errou! O seu chute foi maior do que o número secreto.\")\r\n",
        "\r\n",
        "    if (menor):\r\n",
        "      print(\"Você errou! O seu chute foi menor do que o número secreto.\")\r\n",
        "\r\n",
        "    \r\n",
        "  "
      ],
      "execution_count": 18,
      "outputs": [
        {
          "output_type": "stream",
          "text": [
            "Bem vindo ao jogo de advinhação\n",
            "Tentativa 1 de 3\n",
            "Digite seu número: 23\n",
            "Você errou! O seu chute foi menor do que o número secreto.\n",
            "Tentativa 2 de 3\n",
            "Digite seu número: 32\n",
            "Você errou! O seu chute foi menor do que o número secreto.\n",
            "Tentativa 3 de 3\n",
            "Digite seu número: 15\n",
            "Você errou! O seu chute foi menor do que o número secreto.\n"
          ],
          "name": "stdout"
        }
      ]
    }
  ]
}